{
  "nbformat": 4,
  "nbformat_minor": 0,
  "metadata": {
    "colab": {
      "provenance": [],
      "include_colab_link": true
    },
    "kernelspec": {
      "name": "python3",
      "display_name": "Python 3"
    },
    "language_info": {
      "name": "python"
    }
  },
  "cells": [
    {
      "cell_type": "markdown",
      "metadata": {
        "id": "view-in-github",
        "colab_type": "text"
      },
      "source": [
        "<a href=\"https://colab.research.google.com/github/Sanskruti-Shimple/Temperature-Sensor-Failure-Detection-and-Diagnosis-Based-on-the-ARIMA-Model/blob/main/AR_Model.ipynb\" target=\"_parent\"><img src=\"https://colab.research.google.com/assets/colab-badge.svg\" alt=\"Open In Colab\"/></a>"
      ]
    },
    {
      "cell_type": "code",
      "source": [
        "pip install statsmodels --upgrade"
      ],
      "metadata": {
        "colab": {
          "base_uri": "https://localhost:8080/"
        },
        "id": "1S1hLZbT4nZM",
        "outputId": "c736eca9-b6ce-4576-c58b-ebbd8cfb30d3"
      },
      "execution_count": null,
      "outputs": [
        {
          "output_type": "stream",
          "name": "stdout",
          "text": [
            "Requirement already satisfied: statsmodels in /usr/local/lib/python3.7/dist-packages (0.10.2)\n",
            "Collecting statsmodels\n",
            "  Downloading statsmodels-0.13.1-cp37-cp37m-manylinux_2_17_x86_64.manylinux2014_x86_64.whl (9.8 MB)\n",
            "\u001b[K     |████████████████████████████████| 9.8 MB 5.3 MB/s \n",
            "\u001b[?25hRequirement already satisfied: scipy>=1.3 in /usr/local/lib/python3.7/dist-packages (from statsmodels) (1.4.1)\n",
            "Requirement already satisfied: pandas>=0.25 in /usr/local/lib/python3.7/dist-packages (from statsmodels) (1.1.5)\n",
            "Requirement already satisfied: numpy>=1.17 in /usr/local/lib/python3.7/dist-packages (from statsmodels) (1.19.5)\n",
            "Requirement already satisfied: patsy>=0.5.2 in /usr/local/lib/python3.7/dist-packages (from statsmodels) (0.5.2)\n",
            "Requirement already satisfied: python-dateutil>=2.7.3 in /usr/local/lib/python3.7/dist-packages (from pandas>=0.25->statsmodels) (2.8.2)\n",
            "Requirement already satisfied: pytz>=2017.2 in /usr/local/lib/python3.7/dist-packages (from pandas>=0.25->statsmodels) (2018.9)\n",
            "Requirement already satisfied: six in /usr/local/lib/python3.7/dist-packages (from patsy>=0.5.2->statsmodels) (1.15.0)\n",
            "Installing collected packages: statsmodels\n",
            "  Attempting uninstall: statsmodels\n",
            "    Found existing installation: statsmodels 0.10.2\n",
            "    Uninstalling statsmodels-0.10.2:\n",
            "      Successfully uninstalled statsmodels-0.10.2\n",
            "Successfully installed statsmodels-0.13.1\n"
          ]
        }
      ]
    },
    {
      "cell_type": "code",
      "execution_count": null,
      "metadata": {
        "id": "yf4Qyld93YAk"
      },
      "outputs": [],
      "source": [
        "import pandas as pd\n",
        "import numpy as np\n",
        "from matplotlib import pyplot\n",
        "from statsmodels.tsa.ar_model import AutoReg\n"
      ]
    },
    {
      "cell_type": "code",
      "source": [
        "pip install AutoReg"
      ],
      "metadata": {
        "colab": {
          "base_uri": "https://localhost:8080/"
        },
        "id": "p9qXTiIZ4GDy",
        "outputId": "5e281019-be20-41c5-e0b9-705b8e7c7819"
      },
      "execution_count": null,
      "outputs": [
        {
          "output_type": "stream",
          "name": "stdout",
          "text": [
            "Collecting AutoReg\n",
            "  Downloading AutoReg-1.1.tar.gz (3.5 kB)\n",
            "Building wheels for collected packages: AutoReg\n",
            "  Building wheel for AutoReg (setup.py) ... \u001b[?25l\u001b[?25hdone\n",
            "  Created wheel for AutoReg: filename=AutoReg-1.1-py3-none-any.whl size=3660 sha256=17792359ebcf235d3c2f982b1e3fbd69fe43006854efce3b89610ab31cfcf604\n",
            "  Stored in directory: /root/.cache/pip/wheels/53/a5/a5/8f8a01e75c3f41591330af64c1aa1f6937a09a6876883a5ab9\n",
            "Successfully built AutoReg\n",
            "Installing collected packages: AutoReg\n",
            "Successfully installed AutoReg-1.1\n"
          ]
        }
      ]
    },
    {
      "cell_type": "code",
      "source": [
        "df=pd.read_xlsx('/content/reading1.xlsx',index_col=0,parse_dates=True)\n",
        "x=df.values\n",
        "# print('Shape of data \\t',df.Shape)\n",
        "# print('Orignal Dataset: \\n',df_head())\n",
        "# print('After Extracting only temperature:\\n',x)\n",
        "print(x)"
      ],
      "metadata": {
        "id": "iRH4UPW34gaM",
        "colab": {
          "base_uri": "https://localhost:8080/",
          "height": 234
        },
        "outputId": "01eb2227-f6cf-499e-dc01-f26041fbaf60"
      },
      "execution_count": null,
      "outputs": [
        {
          "output_type": "error",
          "ename": "NameError",
          "evalue": "ignored",
          "traceback": [
            "\u001b[0;31m---------------------------------------------------------------------------\u001b[0m",
            "\u001b[0;31mNameError\u001b[0m                                 Traceback (most recent call last)",
            "\u001b[0;32m<ipython-input-1-f0c3d4105ee7>\u001b[0m in \u001b[0;36m<module>\u001b[0;34m()\u001b[0m\n\u001b[0;32m----> 1\u001b[0;31m \u001b[0mdf\u001b[0m\u001b[0;34m=\u001b[0m\u001b[0mpd\u001b[0m\u001b[0;34m.\u001b[0m\u001b[0mread_xlsx\u001b[0m\u001b[0;34m(\u001b[0m\u001b[0;34m'/content/reading1.xlsx'\u001b[0m\u001b[0;34m,\u001b[0m\u001b[0mindex_col\u001b[0m\u001b[0;34m=\u001b[0m\u001b[0;36m0\u001b[0m\u001b[0;34m,\u001b[0m\u001b[0mparse_dates\u001b[0m\u001b[0;34m=\u001b[0m\u001b[0;32mTrue\u001b[0m\u001b[0;34m)\u001b[0m\u001b[0;34m\u001b[0m\u001b[0;34m\u001b[0m\u001b[0m\n\u001b[0m\u001b[1;32m      2\u001b[0m \u001b[0mx\u001b[0m\u001b[0;34m=\u001b[0m\u001b[0mdf\u001b[0m\u001b[0;34m.\u001b[0m\u001b[0mvalues\u001b[0m\u001b[0;34m\u001b[0m\u001b[0;34m\u001b[0m\u001b[0m\n\u001b[1;32m      3\u001b[0m \u001b[0;31m# print('Shape of data \\t',df.Shape)\u001b[0m\u001b[0;34m\u001b[0m\u001b[0;34m\u001b[0m\u001b[0;34m\u001b[0m\u001b[0m\n\u001b[1;32m      4\u001b[0m \u001b[0;31m# print('Orignal Dataset: \\n',df_head())\u001b[0m\u001b[0;34m\u001b[0m\u001b[0;34m\u001b[0m\u001b[0;34m\u001b[0m\u001b[0m\n\u001b[1;32m      5\u001b[0m \u001b[0;31m# print('After Extracting only temperature:\\n',x)\u001b[0m\u001b[0;34m\u001b[0m\u001b[0;34m\u001b[0m\u001b[0;34m\u001b[0m\u001b[0m\n",
            "\u001b[0;31mNameError\u001b[0m: name 'pd' is not defined"
          ]
        }
      ]
    },
    {
      "cell_type": "code",
      "source": [
        "import pandas as pd\n",
        "import numpy as np\n",
        "import matplotlib.pyplot as plt\n",
        "#\n",
        "# Load AutoReg class from statsmodels.tsa.ar_model module\n",
        "#\n",
        "from statsmodels.tsa.ar_model import AutoReg\n",
        "# Load and plot the time-series data\n",
        "#\n",
        "#url='https://raw.githubusercontent.com/jenfly/opsd/master/opsd_germany_daily.csv'\n",
        "df = pd.read_csv('/content/AR_Reading.csv')\n",
        "df['Consumption'].plot()\n"
      ],
      "metadata": {
        "id": "x19R9eo6fK9r"
      },
      "execution_count": null,
      "outputs": []
    },
    {
      "cell_type": "code",
      "source": [
        "#\n",
        "# Check for stationarity of the time-series data\n",
        "# We will look for p-value. In case, p-value is less than 0.05, the time series\n",
        "# data can said to have stationarity\n",
        "#\n",
        "from statsmodels.tsa.stattools import adfuller\n",
        "#\n",
        "# Run the test\n",
        "#\n",
        "df_stationarityTest = adfuller(df['Consumption'], autolag='AIC')\n",
        "#\n",
        "# Check the value of p-value\n",
        "#\n",
        "print(\"P-value: \", df_stationarityTest[1])\n",
        "#\n",
        "# Next step is to find the order of AR model to be trained\n",
        "# for this, we will plot partial autocorrelation plot to assess\n",
        "# the direct effect of past data on future data\n",
        "#\n",
        "from statsmodels.graphics.tsaplots import plot_pacf\n",
        "pacf = plot_pacf(df['Consumption'], lags=25)"
      ],
      "metadata": {
        "colab": {
          "base_uri": "https://localhost:8080/",
          "height": 353
        },
        "id": "GqB71TUQk4jw",
        "outputId": "df02eb50-3306-4f44-d278-1c1b23896164"
      },
      "execution_count": null,
      "outputs": [
        {
          "output_type": "stream",
          "name": "stdout",
          "text": [
            "P-value:  4.7440549018425884e-08\n"
          ]
        },
        {
          "output_type": "stream",
          "name": "stderr",
          "text": [
            "/usr/local/lib/python3.7/dist-packages/statsmodels/graphics/tsaplots.py:353: FutureWarning: The default method 'yw' can produce PACF values outside of the [-1,1] interval. After 0.13, the default will change tounadjusted Yule-Walker ('ywm'). You can use this method now by setting method='ywm'.\n",
            "  FutureWarning,\n"
          ]
        },
        {
          "output_type": "display_data",
          "data": {
            "image/png": "[encoded data removed]",
            "text/plain": [
              "<Figure size 432x288 with 1 Axes>"
            ]
          },
          "metadata": {
            "needs_background": "light"
          }
        }
      ]
    },
    {
      "cell_type": "code",
      "source": [
        "#\n",
        "# Create training and test data\n",
        "#\n",
        "train_data = df['Consumption'][:len(df)-100]\n",
        "test_data = df['Consumption'][len(df)-100:]\n",
        "#\n",
        "# Instantiate and fit the AR model with training data\n",
        "#\n",
        "ar_model = AutoReg(train_data, lags=8).fit()\n",
        "#\n",
        "# Print Summary\n",
        "#\n",
        "print(ar_model.summary())"
      ],
      "metadata": {
        "colab": {
          "base_uri": "https://localhost:8080/"
        },
        "id": "tggGYeoDlBBP",
        "outputId": "261040d3-aa5f-449c-f3eb-30c2ef88ccb4"
      },
      "execution_count": null,
      "outputs": [
        {
          "output_type": "stream",
          "name": "stdout",
          "text": [
            "                            AutoReg Model Results                             \n",
            "==============================================================================\n",
            "Dep. Variable:            Consumption   No. Observations:                 4283\n",
            "Model:                     AutoReg(8)   Log Likelihood              -24231.812\n",
            "Method:               Conditional MLE   S.D. of innovations             70.058\n",
            "Date:                Tue, 14 Dec 2021   AIC                          48483.625\n",
            "Time:                        06:14:48   BIC                          48547.230\n",
            "Sample:                             8   HQIC                         48506.095\n",
            "                                 4283                                         \n",
            "==================================================================================\n",
            "                     coef    std err          z      P>|z|      [0.025      0.975]\n",
            "----------------------------------------------------------------------------------\n",
            "const            121.2792     14.444      8.397      0.000      92.969     149.589\n",
            "Consumption.L1     0.6393      0.013     47.751      0.000       0.613       0.666\n",
            "Consumption.L2    -0.0966      0.011     -8.424      0.000      -0.119      -0.074\n",
            "Consumption.L3     0.0677      0.012      5.879      0.000       0.045       0.090\n",
            "Consumption.L4    -0.0538      0.012     -4.653      0.000      -0.076      -0.031\n",
            "Consumption.L5    -0.0092      0.012     -0.793      0.428      -0.032       0.014\n",
            "Consumption.L6     0.0619      0.012      5.371      0.000       0.039       0.085\n",
            "Consumption.L7     0.7832      0.011     68.283      0.000       0.761       0.806\n",
            "Consumption.L8    -0.4833      0.013    -36.107      0.000      -0.510      -0.457\n",
            "                                    Roots                                    \n",
            "=============================================================================\n",
            "                  Real          Imaginary           Modulus         Frequency\n",
            "-----------------------------------------------------------------------------\n",
            "AR.1           -0.9434           -0.4695j            1.0538           -0.4265\n",
            "AR.2           -0.9434           +0.4695j            1.0538            0.4265\n",
            "AR.3           -0.2332           -0.9929j            1.0199           -0.2867\n",
            "AR.4           -0.2332           +0.9929j            1.0199            0.2867\n",
            "AR.5            0.6323           -0.7958j            1.0164           -0.1431\n",
            "AR.6            0.6323           +0.7958j            1.0164            0.1431\n",
            "AR.7            1.0362           -0.0000j            1.0362           -0.0000\n",
            "AR.8            1.6730           -0.0000j            1.6730           -0.0000\n",
            "-----------------------------------------------------------------------------\n"
          ]
        }
      ]
    },
    {
      "cell_type": "code",
      "source": [
        "#\n",
        "# Make the predictions\n",
        "#\n",
        "pred = ar_model.predict(start=len(train_data), end=(len(df)-1), dynamic=False)\n",
        "#\n",
        "# Plot the prediction vs test data\n",
        "#\n",
        "from matplotlib import pyplot\n",
        "pyplot.plot(pred)\n",
        "pyplot.plot(test_data, color='red')"
      ],
      "metadata": {
        "colab": {
          "base_uri": "https://localhost:8080/",
          "height": 282
        },
        "id": "jV1RoKXslHJj",
        "outputId": "991b5774-d1b6-41b0-f019-7044ebff3b22"
      },
      "execution_count": null,
      "outputs": [
        {
          "output_type": "execute_result",
          "data": {
            "text/plain": [
              "[<matplotlib.lines.Line2D at 0x7f5b3985add0>]"
            ]
          },
          "metadata": {},
          "execution_count": 9
        },
        {
          "output_type": "display_data",
          "data": {
            "image/png": "[encoded data removed]",
            "text/plain": [
              "<Figure size 432x288 with 1 Axes>"
            ]
          },
          "metadata": {
            "needs_background": "light"
          }
        }
      ]
    }
  ]
}