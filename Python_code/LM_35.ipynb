{
  "cells": [
    {
      "cell_type": "markdown",
      "metadata": {
        "id": "view-in-github",
        "colab_type": "text"
      },
      "source": [
        "<a href=\"https://colab.research.google.com/github/Sanskruti-Shimple/Temperature-Sensor-Failure-Detection-and-Diagnosis-Based-on-the-ARIMA-Model/blob/main/LM_35.ipynb\" target=\"_parent\"><img src=\"https://colab.research.google.com/assets/colab-badge.svg\" alt=\"Open In Colab\"/></a>"
      ]
    },
    {
      "cell_type": "code",
      "execution_count": null,
      "metadata": {
        "id": "0CkgcTkcGad-"
      },
      "outputs": [],
      "source": [
        "import pandas as pd\n",
        "from datetime import datetime\n",
        "import matplotlib.pyplot as plt\n",
        "import numpy as np \n"
      ]
    },
    {
      "cell_type": "code",
      "execution_count": null,
      "metadata": {
        "id": "BwQlfV8zGqIB"
      },
      "outputs": [],
      "source": [
        "def parser(x):\n",
        "  return datetime.strptime(x,'%H:%M:%S')\n",
        "\n",
        "pro = pd.read_csv('/content/LM35_Healthy.csv',index_col=0, parse_dates=[0] ,date_parser=parser)"
      ]
    },
    {
      "cell_type": "code",
      "execution_count": null,
      "metadata": {
        "id": "46NDojyLGsqw",
        "colab": {
          "base_uri": "https://localhost:8080/",
          "height": 238
        },
        "outputId": "21acf0de-a032-4724-a792-bd9d6fbfa2bd"
      },
      "outputs": [
        {
          "output_type": "execute_result",
          "data": {
            "text/html": [
              "\n",
              "  <div id=\"df-211a4429-f618-4c9d-9fc8-a2b47d9ed2ab\">\n",
              "    <div class=\"colab-df-container\">\n",
              "      <div>\n",
              "<style scoped>\n",
              "    .dataframe tbody tr th:only-of-type {\n",
              "        vertical-align: middle;\n",
              "    }\n",
              "\n",
              "    .dataframe tbody tr th {\n",
              "        vertical-align: top;\n",
              "    }\n",
              "\n",
              "    .dataframe thead th {\n",
              "        text-align: right;\n",
              "    }\n",
              "</style>\n",
              "<table border=\"1\" class=\"dataframe\">\n",
              "  <thead>\n",
              "    <tr style=\"text-align: right;\">\n",
              "      <th></th>\n",
              "      <th>TEMP</th>\n",
              "    </tr>\n",
              "    <tr>\n",
              "      <th>TIME</th>\n",
              "      <th></th>\n",
              "    </tr>\n",
              "  </thead>\n",
              "  <tbody>\n",
              "    <tr>\n",
              "      <th>1900-01-01 21:41:06</th>\n",
              "      <td>53.76</td>\n",
              "    </tr>\n",
              "    <tr>\n",
              "      <th>1900-01-01 21:41:09</th>\n",
              "      <td>54.25</td>\n",
              "    </tr>\n",
              "    <tr>\n",
              "      <th>1900-01-01 21:41:12</th>\n",
              "      <td>54.74</td>\n",
              "    </tr>\n",
              "    <tr>\n",
              "      <th>1900-01-01 21:41:14</th>\n",
              "      <td>55.23</td>\n",
              "    </tr>\n",
              "    <tr>\n",
              "      <th>1900-01-01 21:41:17</th>\n",
              "      <td>55.72</td>\n",
              "    </tr>\n",
              "  </tbody>\n",
              "</table>\n",
              "</div>\n",
              "      <button class=\"colab-df-convert\" onclick=\"convertToInteractive('df-211a4429-f618-4c9d-9fc8-a2b47d9ed2ab')\"\n",
              "              title=\"Convert this dataframe to an interactive table.\"\n",
              "              style=\"display:none;\">\n",
              "        \n",
              "  <svg xmlns=\"http://www.w3.org/2000/svg\" height=\"24px\"viewBox=\"0 0 24 24\"\n",
              "       width=\"24px\">\n",
              "    <path d=\"M0 0h24v24H0V0z\" fill=\"none\"/>\n",
              "    <path d=\"M18.56 5.44l.94 2.06.94-2.06 2.06-.94-2.06-.94-.94-2.06-.94 2.06-2.06.94zm-11 1L8.5 8.5l.94-2.06 2.06-.94-2.06-.94L8.5 2.5l-.94 2.06-2.06.94zm10 10l.94 2.06.94-2.06 2.06-.94-2.06-.94-.94-2.06-.94 2.06-2.06.94z\"/><path d=\"M17.41 7.96l-1.37-1.37c-.4-.4-.92-.59-1.43-.59-.52 0-1.04.2-1.43.59L10.3 9.45l-7.72 7.72c-.78.78-.78 2.05 0 2.83L4 21.41c.39.39.9.59 1.41.59.51 0 1.02-.2 1.41-.59l7.78-7.78 2.81-2.81c.8-.78.8-2.07 0-2.86zM5.41 20L4 18.59l7.72-7.72 1.47 1.35L5.41 20z\"/>\n",
              "  </svg>\n",
              "      </button>\n",
              "      \n",
              "  <style>\n",
              "    .colab-df-container {\n",
              "      display:flex;\n",
              "      flex-wrap:wrap;\n",
              "      gap: 12px;\n",
              "    }\n",
              "\n",
              "    .colab-df-convert {\n",
              "      background-color: #E8F0FE;\n",
              "      border: none;\n",
              "      border-radius: 50%;\n",
              "      cursor: pointer;\n",
              "      display: none;\n",
              "      fill: #1967D2;\n",
              "      height: 32px;\n",
              "      padding: 0 0 0 0;\n",
              "      width: 32px;\n",
              "    }\n",
              "\n",
              "    .colab-df-convert:hover {\n",
              "      background-color: #E2EBFA;\n",
              "      box-shadow: 0px 1px 2px rgba(60, 64, 67, 0.3), 0px 1px 3px 1px rgba(60, 64, 67, 0.15);\n",
              "      fill: #174EA6;\n",
              "    }\n",
              "\n",
              "    [theme=dark] .colab-df-convert {\n",
              "      background-color: #3B4455;\n",
              "      fill: #D2E3FC;\n",
              "    }\n",
              "\n",
              "    [theme=dark] .colab-df-convert:hover {\n",
              "      background-color: #434B5C;\n",
              "      box-shadow: 0px 1px 3px 1px rgba(0, 0, 0, 0.15);\n",
              "      filter: drop-shadow(0px 1px 2px rgba(0, 0, 0, 0.3));\n",
              "      fill: #FFFFFF;\n",
              "    }\n",
              "  </style>\n",
              "\n",
              "      <script>\n",
              "        const buttonEl =\n",
              "          document.querySelector('#df-211a4429-f618-4c9d-9fc8-a2b47d9ed2ab button.colab-df-convert');\n",
              "        buttonEl.style.display =\n",
              "          google.colab.kernel.accessAllowed ? 'block' : 'none';\n",
              "\n",
              "        async function convertToInteractive(key) {\n",
              "          const element = document.querySelector('#df-211a4429-f618-4c9d-9fc8-a2b47d9ed2ab');\n",
              "          const dataTable =\n",
              "            await google.colab.kernel.invokeFunction('convertToInteractive',\n",
              "                                                     [key], {});\n",
              "          if (!dataTable) return;\n",
              "\n",
              "          const docLinkHtml = 'Like what you see? Visit the ' +\n",
              "            '<a target=\"_blank\" href=https://colab.research.google.com/notebooks/data_table.ipynb>data table notebook</a>'\n",
              "            + ' to learn more about interactive tables.';\n",
              "          element.innerHTML = '';\n",
              "          dataTable['output_type'] = 'display_data';\n",
              "          await google.colab.output.renderOutput(dataTable, element);\n",
              "          const docLink = document.createElement('div');\n",
              "          docLink.innerHTML = docLinkHtml;\n",
              "          element.appendChild(docLink);\n",
              "        }\n",
              "      </script>\n",
              "    </div>\n",
              "  </div>\n",
              "  "
            ],
            "text/plain": [
              "                      TEMP\n",
              "TIME                      \n",
              "1900-01-01 21:41:06  53.76\n",
              "1900-01-01 21:41:09  54.25\n",
              "1900-01-01 21:41:12  54.74\n",
              "1900-01-01 21:41:14  55.23\n",
              "1900-01-01 21:41:17  55.72"
            ]
          },
          "metadata": {},
          "execution_count": 3
        }
      ],
      "source": [
        "pro.head()"
      ]
    },
    {
      "cell_type": "code",
      "execution_count": null,
      "metadata": {
        "id": "xZFAm1iCGuxQ",
        "colab": {
          "base_uri": "https://localhost:8080/",
          "height": 296
        },
        "outputId": "9f33bd6e-e6cb-4e30-84a3-c16b51e45f35"
      },
      "outputs": [
        {
          "output_type": "execute_result",
          "data": {
            "text/plain": [
              "<matplotlib.axes._subplots.AxesSubplot at 0x7fbcc45d97d0>"
            ]
          },
          "metadata": {},
          "execution_count": 4
        },
        {
          "output_type": "display_data",
          "data": {
            "image/png": "[encoded data removed]",
            "text/plain": [
              "<Figure size 432x288 with 1 Axes>"
            ]
          },
          "metadata": {
            "needs_background": "light"
          }
        }
      ],
      "source": [
        "pro.plot()"
      ]
    },
    {
      "cell_type": "code",
      "execution_count": null,
      "metadata": {
        "id": "2aG7P1ovGwea",
        "colab": {
          "base_uri": "https://localhost:8080/",
          "height": 600
        },
        "outputId": "8096d253-98ec-4d06-f5c1-7f5303f081ee"
      },
      "outputs": [
        {
          "output_type": "stream",
          "name": "stderr",
          "text": [
            "/usr/local/lib/python3.7/dist-packages/statsmodels/tools/_testing.py:19: FutureWarning: pandas.util.testing is deprecated. Use the functions in the public API at pandas.testing instead.\n",
            "  import pandas.util.testing as tm\n"
          ]
        },
        {
          "output_type": "execute_result",
          "data": {
            "image/png": "[encoded data removed]",
            "text/plain": [
              "<Figure size 432x288 with 1 Axes>"
            ]
          },
          "metadata": {},
          "execution_count": 5
        },
        {
          "output_type": "display_data",
          "data": {
            "image/png": "[encoded data removed]",
            "text/plain": [
              "<Figure size 432x288 with 1 Axes>"
            ]
          },
          "metadata": {
            "needs_background": "light"
          }
        }
      ],
      "source": [
        "from statsmodels.graphics.tsaplots import plot_acf\n",
        "plot_acf(pro)"
      ]
    },
    {
      "cell_type": "markdown",
      "source": [
        "\n",
        "##Converting series to stationary"
      ],
      "metadata": {
        "id": "WLpbYE-fbgih"
      }
    },
    {
      "cell_type": "code",
      "execution_count": null,
      "metadata": {
        "id": "l3MPYfxpG1Zc",
        "colab": {
          "base_uri": "https://localhost:8080/",
          "height": 238
        },
        "outputId": "1d751a83-6141-418b-ac18-92aa4d7df4da"
      },
      "outputs": [
        {
          "output_type": "execute_result",
          "data": {
            "text/html": [
              "\n",
              "  <div id=\"df-6e516b54-155f-4217-9a06-0f7e16af03fa\">\n",
              "    <div class=\"colab-df-container\">\n",
              "      <div>\n",
              "<style scoped>\n",
              "    .dataframe tbody tr th:only-of-type {\n",
              "        vertical-align: middle;\n",
              "    }\n",
              "\n",
              "    .dataframe tbody tr th {\n",
              "        vertical-align: top;\n",
              "    }\n",
              "\n",
              "    .dataframe thead th {\n",
              "        text-align: right;\n",
              "    }\n",
              "</style>\n",
              "<table border=\"1\" class=\"dataframe\">\n",
              "  <thead>\n",
              "    <tr style=\"text-align: right;\">\n",
              "      <th></th>\n",
              "      <th>TEMP</th>\n",
              "    </tr>\n",
              "    <tr>\n",
              "      <th>TIME</th>\n",
              "      <th></th>\n",
              "    </tr>\n",
              "  </thead>\n",
              "  <tbody>\n",
              "    <tr>\n",
              "      <th>1900-01-01 21:41:06</th>\n",
              "      <td>53.76</td>\n",
              "    </tr>\n",
              "    <tr>\n",
              "      <th>1900-01-01 21:41:09</th>\n",
              "      <td>54.25</td>\n",
              "    </tr>\n",
              "    <tr>\n",
              "      <th>1900-01-01 21:41:12</th>\n",
              "      <td>54.74</td>\n",
              "    </tr>\n",
              "    <tr>\n",
              "      <th>1900-01-01 21:41:14</th>\n",
              "      <td>55.23</td>\n",
              "    </tr>\n",
              "    <tr>\n",
              "      <th>1900-01-01 21:41:17</th>\n",
              "      <td>55.72</td>\n",
              "    </tr>\n",
              "  </tbody>\n",
              "</table>\n",
              "</div>\n",
              "      <button class=\"colab-df-convert\" onclick=\"convertToInteractive('df-6e516b54-155f-4217-9a06-0f7e16af03fa')\"\n",
              "              title=\"Convert this dataframe to an interactive table.\"\n",
              "              style=\"display:none;\">\n",
              "        \n",
              "  <svg xmlns=\"http://www.w3.org/2000/svg\" height=\"24px\"viewBox=\"0 0 24 24\"\n",
              "       width=\"24px\">\n",
              "    <path d=\"M0 0h24v24H0V0z\" fill=\"none\"/>\n",
              "    <path d=\"M18.56 5.44l.94 2.06.94-2.06 2.06-.94-2.06-.94-.94-2.06-.94 2.06-2.06.94zm-11 1L8.5 8.5l.94-2.06 2.06-.94-2.06-.94L8.5 2.5l-.94 2.06-2.06.94zm10 10l.94 2.06.94-2.06 2.06-.94-2.06-.94-.94-2.06-.94 2.06-2.06.94z\"/><path d=\"M17.41 7.96l-1.37-1.37c-.4-.4-.92-.59-1.43-.59-.52 0-1.04.2-1.43.59L10.3 9.45l-7.72 7.72c-.78.78-.78 2.05 0 2.83L4 21.41c.39.39.9.59 1.41.59.51 0 1.02-.2 1.41-.59l7.78-7.78 2.81-2.81c.8-.78.8-2.07 0-2.86zM5.41 20L4 18.59l7.72-7.72 1.47 1.35L5.41 20z\"/>\n",
              "  </svg>\n",
              "      </button>\n",
              "      \n",
              "  <style>\n",
              "    .colab-df-container {\n",
              "      display:flex;\n",
              "      flex-wrap:wrap;\n",
              "      gap: 12px;\n",
              "    }\n",
              "\n",
              "    .colab-df-convert {\n",
              "      background-color: #E8F0FE;\n",
              "      border: none;\n",
              "      border-radius: 50%;\n",
              "      cursor: pointer;\n",
              "      display: none;\n",
              "      fill: #1967D2;\n",
              "      height: 32px;\n",
              "      padding: 0 0 0 0;\n",
              "      width: 32px;\n",
              "    }\n",
              "\n",
              "    .colab-df-convert:hover {\n",
              "      background-color: #E2EBFA;\n",
              "      box-shadow: 0px 1px 2px rgba(60, 64, 67, 0.3), 0px 1px 3px 1px rgba(60, 64, 67, 0.15);\n",
              "      fill: #174EA6;\n",
              "    }\n",
              "\n",
              "    [theme=dark] .colab-df-convert {\n",
              "      background-color: #3B4455;\n",
              "      fill: #D2E3FC;\n",
              "    }\n",
              "\n",
              "    [theme=dark] .colab-df-convert:hover {\n",
              "      background-color: #434B5C;\n",
              "      box-shadow: 0px 1px 3px 1px rgba(0, 0, 0, 0.15);\n",
              "      filter: drop-shadow(0px 1px 2px rgba(0, 0, 0, 0.3));\n",
              "      fill: #FFFFFF;\n",
              "    }\n",
              "  </style>\n",
              "\n",
              "      <script>\n",
              "        const buttonEl =\n",
              "          document.querySelector('#df-6e516b54-155f-4217-9a06-0f7e16af03fa button.colab-df-convert');\n",
              "        buttonEl.style.display =\n",
              "          google.colab.kernel.accessAllowed ? 'block' : 'none';\n",
              "\n",
              "        async function convertToInteractive(key) {\n",
              "          const element = document.querySelector('#df-6e516b54-155f-4217-9a06-0f7e16af03fa');\n",
              "          const dataTable =\n",
              "            await google.colab.kernel.invokeFunction('convertToInteractive',\n",
              "                                                     [key], {});\n",
              "          if (!dataTable) return;\n",
              "\n",
              "          const docLinkHtml = 'Like what you see? Visit the ' +\n",
              "            '<a target=\"_blank\" href=https://colab.research.google.com/notebooks/data_table.ipynb>data table notebook</a>'\n",
              "            + ' to learn more about interactive tables.';\n",
              "          element.innerHTML = '';\n",
              "          dataTable['output_type'] = 'display_data';\n",
              "          await google.colab.output.renderOutput(dataTable, element);\n",
              "          const docLink = document.createElement('div');\n",
              "          docLink.innerHTML = docLinkHtml;\n",
              "          element.appendChild(docLink);\n",
              "        }\n",
              "      </script>\n",
              "    </div>\n",
              "  </div>\n",
              "  "
            ],
            "text/plain": [
              "                      TEMP\n",
              "TIME                      \n",
              "1900-01-01 21:41:06  53.76\n",
              "1900-01-01 21:41:09  54.25\n",
              "1900-01-01 21:41:12  54.74\n",
              "1900-01-01 21:41:14  55.23\n",
              "1900-01-01 21:41:17  55.72"
            ]
          },
          "metadata": {},
          "execution_count": 6
        }
      ],
      "source": [
        "pro.head()"
      ]
    },
    {
      "cell_type": "code",
      "execution_count": null,
      "metadata": {
        "id": "pCaa1IMZG3X2",
        "colab": {
          "base_uri": "https://localhost:8080/",
          "height": 455
        },
        "outputId": "f3c6014f-e737-46f6-e42f-a57ae61186e5"
      },
      "outputs": [
        {
          "output_type": "execute_result",
          "data": {
            "text/html": [
              "\n",
              "  <div id=\"df-5b41e207-693c-4c11-a43a-9a8348c970c5\">\n",
              "    <div class=\"colab-df-container\">\n",
              "      <div>\n",
              "<style scoped>\n",
              "    .dataframe tbody tr th:only-of-type {\n",
              "        vertical-align: middle;\n",
              "    }\n",
              "\n",
              "    .dataframe tbody tr th {\n",
              "        vertical-align: top;\n",
              "    }\n",
              "\n",
              "    .dataframe thead th {\n",
              "        text-align: right;\n",
              "    }\n",
              "</style>\n",
              "<table border=\"1\" class=\"dataframe\">\n",
              "  <thead>\n",
              "    <tr style=\"text-align: right;\">\n",
              "      <th></th>\n",
              "      <th>TEMP</th>\n",
              "    </tr>\n",
              "    <tr>\n",
              "      <th>TIME</th>\n",
              "      <th></th>\n",
              "    </tr>\n",
              "  </thead>\n",
              "  <tbody>\n",
              "    <tr>\n",
              "      <th>1900-01-01 21:41:06</th>\n",
              "      <td>NaN</td>\n",
              "    </tr>\n",
              "    <tr>\n",
              "      <th>1900-01-01 21:41:09</th>\n",
              "      <td>53.76</td>\n",
              "    </tr>\n",
              "    <tr>\n",
              "      <th>1900-01-01 21:41:12</th>\n",
              "      <td>54.25</td>\n",
              "    </tr>\n",
              "    <tr>\n",
              "      <th>1900-01-01 21:41:14</th>\n",
              "      <td>54.74</td>\n",
              "    </tr>\n",
              "    <tr>\n",
              "      <th>1900-01-01 21:41:17</th>\n",
              "      <td>55.23</td>\n",
              "    </tr>\n",
              "    <tr>\n",
              "      <th>...</th>\n",
              "      <td>...</td>\n",
              "    </tr>\n",
              "    <tr>\n",
              "      <th>1900-01-01 21:50:48</th>\n",
              "      <td>92.38</td>\n",
              "    </tr>\n",
              "    <tr>\n",
              "      <th>1900-01-01 21:50:51</th>\n",
              "      <td>92.38</td>\n",
              "    </tr>\n",
              "    <tr>\n",
              "      <th>1900-01-01 21:50:54</th>\n",
              "      <td>92.38</td>\n",
              "    </tr>\n",
              "    <tr>\n",
              "      <th>1900-01-01 21:50:57</th>\n",
              "      <td>92.86</td>\n",
              "    </tr>\n",
              "    <tr>\n",
              "      <th>1900-01-01 21:51:00</th>\n",
              "      <td>92.38</td>\n",
              "    </tr>\n",
              "  </tbody>\n",
              "</table>\n",
              "<p>200 rows × 1 columns</p>\n",
              "</div>\n",
              "      <button class=\"colab-df-convert\" onclick=\"convertToInteractive('df-5b41e207-693c-4c11-a43a-9a8348c970c5')\"\n",
              "              title=\"Convert this dataframe to an interactive table.\"\n",
              "              style=\"display:none;\">\n",
              "        \n",
              "  <svg xmlns=\"http://www.w3.org/2000/svg\" height=\"24px\"viewBox=\"0 0 24 24\"\n",
              "       width=\"24px\">\n",
              "    <path d=\"M0 0h24v24H0V0z\" fill=\"none\"/>\n",
              "    <path d=\"M18.56 5.44l.94 2.06.94-2.06 2.06-.94-2.06-.94-.94-2.06-.94 2.06-2.06.94zm-11 1L8.5 8.5l.94-2.06 2.06-.94-2.06-.94L8.5 2.5l-.94 2.06-2.06.94zm10 10l.94 2.06.94-2.06 2.06-.94-2.06-.94-.94-2.06-.94 2.06-2.06.94z\"/><path d=\"M17.41 7.96l-1.37-1.37c-.4-.4-.92-.59-1.43-.59-.52 0-1.04.2-1.43.59L10.3 9.45l-7.72 7.72c-.78.78-.78 2.05 0 2.83L4 21.41c.39.39.9.59 1.41.59.51 0 1.02-.2 1.41-.59l7.78-7.78 2.81-2.81c.8-.78.8-2.07 0-2.86zM5.41 20L4 18.59l7.72-7.72 1.47 1.35L5.41 20z\"/>\n",
              "  </svg>\n",
              "      </button>\n",
              "      \n",
              "  <style>\n",
              "    .colab-df-container {\n",
              "      display:flex;\n",
              "      flex-wrap:wrap;\n",
              "      gap: 12px;\n",
              "    }\n",
              "\n",
              "    .colab-df-convert {\n",
              "      background-color: #E8F0FE;\n",
              "      border: none;\n",
              "      border-radius: 50%;\n",
              "      cursor: pointer;\n",
              "      display: none;\n",
              "      fill: #1967D2;\n",
              "      height: 32px;\n",
              "      padding: 0 0 0 0;\n",
              "      width: 32px;\n",
              "    }\n",
              "\n",
              "    .colab-df-convert:hover {\n",
              "      background-color: #E2EBFA;\n",
              "      box-shadow: 0px 1px 2px rgba(60, 64, 67, 0.3), 0px 1px 3px 1px rgba(60, 64, 67, 0.15);\n",
              "      fill: #174EA6;\n",
              "    }\n",
              "\n",
              "    [theme=dark] .colab-df-convert {\n",
              "      background-color: #3B4455;\n",
              "      fill: #D2E3FC;\n",
              "    }\n",
              "\n",
              "    [theme=dark] .colab-df-convert:hover {\n",
              "      background-color: #434B5C;\n",
              "      box-shadow: 0px 1px 3px 1px rgba(0, 0, 0, 0.15);\n",
              "      filter: drop-shadow(0px 1px 2px rgba(0, 0, 0, 0.3));\n",
              "      fill: #FFFFFF;\n",
              "    }\n",
              "  </style>\n",
              "\n",
              "      <script>\n",
              "        const buttonEl =\n",
              "          document.querySelector('#df-5b41e207-693c-4c11-a43a-9a8348c970c5 button.colab-df-convert');\n",
              "        buttonEl.style.display =\n",
              "          google.colab.kernel.accessAllowed ? 'block' : 'none';\n",
              "\n",
              "        async function convertToInteractive(key) {\n",
              "          const element = document.querySelector('#df-5b41e207-693c-4c11-a43a-9a8348c970c5');\n",
              "          const dataTable =\n",
              "            await google.colab.kernel.invokeFunction('convertToInteractive',\n",
              "                                                     [key], {});\n",
              "          if (!dataTable) return;\n",
              "\n",
              "          const docLinkHtml = 'Like what you see? Visit the ' +\n",
              "            '<a target=\"_blank\" href=https://colab.research.google.com/notebooks/data_table.ipynb>data table notebook</a>'\n",
              "            + ' to learn more about interactive tables.';\n",
              "          element.innerHTML = '';\n",
              "          dataTable['output_type'] = 'display_data';\n",
              "          await google.colab.output.renderOutput(dataTable, element);\n",
              "          const docLink = document.createElement('div');\n",
              "          docLink.innerHTML = docLinkHtml;\n",
              "          element.appendChild(docLink);\n",
              "        }\n",
              "      </script>\n",
              "    </div>\n",
              "  </div>\n",
              "  "
            ],
            "text/plain": [
              "                      TEMP\n",
              "TIME                      \n",
              "1900-01-01 21:41:06    NaN\n",
              "1900-01-01 21:41:09  53.76\n",
              "1900-01-01 21:41:12  54.25\n",
              "1900-01-01 21:41:14  54.74\n",
              "1900-01-01 21:41:17  55.23\n",
              "...                    ...\n",
              "1900-01-01 21:50:48  92.38\n",
              "1900-01-01 21:50:51  92.38\n",
              "1900-01-01 21:50:54  92.38\n",
              "1900-01-01 21:50:57  92.86\n",
              "1900-01-01 21:51:00  92.38\n",
              "\n",
              "[200 rows x 1 columns]"
            ]
          },
          "metadata": {},
          "execution_count": 7
        }
      ],
      "source": [
        "pro.shift(1)"
      ]
    },
    {
      "cell_type": "code",
      "execution_count": null,
      "metadata": {
        "id": "Y1ESgQ15G796",
        "colab": {
          "base_uri": "https://localhost:8080/",
          "height": 238
        },
        "outputId": "38d2898f-60ed-4cb9-a3d5-b36f9fab2e87"
      },
      "outputs": [
        {
          "output_type": "execute_result",
          "data": {
            "text/html": [
              "\n",
              "  <div id=\"df-f1215c20-12b3-4b49-8b7d-1b62be6a909d\">\n",
              "    <div class=\"colab-df-container\">\n",
              "      <div>\n",
              "<style scoped>\n",
              "    .dataframe tbody tr th:only-of-type {\n",
              "        vertical-align: middle;\n",
              "    }\n",
              "\n",
              "    .dataframe tbody tr th {\n",
              "        vertical-align: top;\n",
              "    }\n",
              "\n",
              "    .dataframe thead th {\n",
              "        text-align: right;\n",
              "    }\n",
              "</style>\n",
              "<table border=\"1\" class=\"dataframe\">\n",
              "  <thead>\n",
              "    <tr style=\"text-align: right;\">\n",
              "      <th></th>\n",
              "      <th>TEMP</th>\n",
              "    </tr>\n",
              "    <tr>\n",
              "      <th>TIME</th>\n",
              "      <th></th>\n",
              "    </tr>\n",
              "  </thead>\n",
              "  <tbody>\n",
              "    <tr>\n",
              "      <th>1900-01-01 21:41:14</th>\n",
              "      <td>0.49</td>\n",
              "    </tr>\n",
              "    <tr>\n",
              "      <th>1900-01-01 21:41:17</th>\n",
              "      <td>0.49</td>\n",
              "    </tr>\n",
              "    <tr>\n",
              "      <th>1900-01-01 21:41:20</th>\n",
              "      <td>0.49</td>\n",
              "    </tr>\n",
              "    <tr>\n",
              "      <th>1900-01-01 21:41:23</th>\n",
              "      <td>0.49</td>\n",
              "    </tr>\n",
              "    <tr>\n",
              "      <th>1900-01-01 21:41:26</th>\n",
              "      <td>0.48</td>\n",
              "    </tr>\n",
              "  </tbody>\n",
              "</table>\n",
              "</div>\n",
              "      <button class=\"colab-df-convert\" onclick=\"convertToInteractive('df-f1215c20-12b3-4b49-8b7d-1b62be6a909d')\"\n",
              "              title=\"Convert this dataframe to an interactive table.\"\n",
              "              style=\"display:none;\">\n",
              "        \n",
              "  <svg xmlns=\"http://www.w3.org/2000/svg\" height=\"24px\"viewBox=\"0 0 24 24\"\n",
              "       width=\"24px\">\n",
              "    <path d=\"M0 0h24v24H0V0z\" fill=\"none\"/>\n",
              "    <path d=\"M18.56 5.44l.94 2.06.94-2.06 2.06-.94-2.06-.94-.94-2.06-.94 2.06-2.06.94zm-11 1L8.5 8.5l.94-2.06 2.06-.94-2.06-.94L8.5 2.5l-.94 2.06-2.06.94zm10 10l.94 2.06.94-2.06 2.06-.94-2.06-.94-.94-2.06-.94 2.06-2.06.94z\"/><path d=\"M17.41 7.96l-1.37-1.37c-.4-.4-.92-.59-1.43-.59-.52 0-1.04.2-1.43.59L10.3 9.45l-7.72 7.72c-.78.78-.78 2.05 0 2.83L4 21.41c.39.39.9.59 1.41.59.51 0 1.02-.2 1.41-.59l7.78-7.78 2.81-2.81c.8-.78.8-2.07 0-2.86zM5.41 20L4 18.59l7.72-7.72 1.47 1.35L5.41 20z\"/>\n",
              "  </svg>\n",
              "      </button>\n",
              "      \n",
              "  <style>\n",
              "    .colab-df-container {\n",
              "      display:flex;\n",
              "      flex-wrap:wrap;\n",
              "      gap: 12px;\n",
              "    }\n",
              "\n",
              "    .colab-df-convert {\n",
              "      background-color: #E8F0FE;\n",
              "      border: none;\n",
              "      border-radius: 50%;\n",
              "      cursor: pointer;\n",
              "      display: none;\n",
              "      fill: #1967D2;\n",
              "      height: 32px;\n",
              "      padding: 0 0 0 0;\n",
              "      width: 32px;\n",
              "    }\n",
              "\n",
              "    .colab-df-convert:hover {\n",
              "      background-color: #E2EBFA;\n",
              "      box-shadow: 0px 1px 2px rgba(60, 64, 67, 0.3), 0px 1px 3px 1px rgba(60, 64, 67, 0.15);\n",
              "      fill: #174EA6;\n",
              "    }\n",
              "\n",
              "    [theme=dark] .colab-df-convert {\n",
              "      background-color: #3B4455;\n",
              "      fill: #D2E3FC;\n",
              "    }\n",
              "\n",
              "    [theme=dark] .colab-df-convert:hover {\n",
              "      background-color: #434B5C;\n",
              "      box-shadow: 0px 1px 3px 1px rgba(0, 0, 0, 0.15);\n",
              "      filter: drop-shadow(0px 1px 2px rgba(0, 0, 0, 0.3));\n",
              "      fill: #FFFFFF;\n",
              "    }\n",
              "  </style>\n",
              "\n",
              "      <script>\n",
              "        const buttonEl =\n",
              "          document.querySelector('#df-f1215c20-12b3-4b49-8b7d-1b62be6a909d button.colab-df-convert');\n",
              "        buttonEl.style.display =\n",
              "          google.colab.kernel.accessAllowed ? 'block' : 'none';\n",
              "\n",
              "        async function convertToInteractive(key) {\n",
              "          const element = document.querySelector('#df-f1215c20-12b3-4b49-8b7d-1b62be6a909d');\n",
              "          const dataTable =\n",
              "            await google.colab.kernel.invokeFunction('convertToInteractive',\n",
              "                                                     [key], {});\n",
              "          if (!dataTable) return;\n",
              "\n",
              "          const docLinkHtml = 'Like what you see? Visit the ' +\n",
              "            '<a target=\"_blank\" href=https://colab.research.google.com/notebooks/data_table.ipynb>data table notebook</a>'\n",
              "            + ' to learn more about interactive tables.';\n",
              "          element.innerHTML = '';\n",
              "          dataTable['output_type'] = 'display_data';\n",
              "          await google.colab.output.renderOutput(dataTable, element);\n",
              "          const docLink = document.createElement('div');\n",
              "          docLink.innerHTML = docLinkHtml;\n",
              "          element.appendChild(docLink);\n",
              "        }\n",
              "      </script>\n",
              "    </div>\n",
              "  </div>\n",
              "  "
            ],
            "text/plain": [
              "                     TEMP\n",
              "TIME                     \n",
              "1900-01-01 21:41:14  0.49\n",
              "1900-01-01 21:41:17  0.49\n",
              "1900-01-01 21:41:20  0.49\n",
              "1900-01-01 21:41:23  0.49\n",
              "1900-01-01 21:41:26  0.48"
            ]
          },
          "metadata": {},
          "execution_count": 31
        }
      ],
      "source": [
        "pro_diff = pro.diff(periods=1)\n",
        "pro_diff = pro_diff[3:]\n",
        "pro_diff.head()"
      ]
    },
    {
      "cell_type": "code",
      "execution_count": null,
      "metadata": {
        "id": "MBrr9oyIG91A",
        "colab": {
          "base_uri": "https://localhost:8080/",
          "height": 545
        },
        "outputId": "84b99f5d-5fcf-4af8-dbb9-8573069f1909"
      },
      "outputs": [
        {
          "output_type": "execute_result",
          "data": {
            "image/png": "[encoded data removed]",
            "text/plain": [
              "<Figure size 432x288 with 1 Axes>"
            ]
          },
          "metadata": {},
          "execution_count": 32
        },
        {
          "output_type": "display_data",
          "data": {
            "image/png": "[encoded data removed]",
            "text/plain": [
              "<Figure size 432x288 with 1 Axes>"
            ]
          },
          "metadata": {
            "needs_background": "light"
          }
        }
      ],
      "source": [
        "plot_acf(pro_diff)"
      ]
    },
    {
      "cell_type": "code",
      "execution_count": null,
      "metadata": {
        "id": "QjJecxdrG_iM",
        "colab": {
          "base_uri": "https://localhost:8080/",
          "height": 296
        },
        "outputId": "2c329fdb-6b99-4eb5-9d70-9f0ce8df3948"
      },
      "outputs": [
        {
          "output_type": "execute_result",
          "data": {
            "text/plain": [
              "<matplotlib.axes._subplots.AxesSubplot at 0x7fbca403ab50>"
            ]
          },
          "metadata": {},
          "execution_count": 33
        },
        {
          "output_type": "display_data",
          "data": {
            "image/png": "[encoded data removed]",
            "text/plain": [
              "<Figure size 432x288 with 1 Axes>"
            ]
          },
          "metadata": {
            "needs_background": "light"
          }
        }
      ],
      "source": [
        "pro_diff.plot()"
      ]
    },
    {
      "cell_type": "code",
      "execution_count": null,
      "metadata": {
        "id": "7EC4AGuJHBdC",
        "colab": {
          "base_uri": "https://localhost:8080/"
        },
        "outputId": "d316cc5f-9c5c-4d92-a8a5-a93c99cc23e2"
      },
      "outputs": [
        {
          "output_type": "stream",
          "name": "stdout",
          "text": [
            "149\n",
            "50\n"
          ]
        }
      ],
      "source": [
        "X = pro.values\n",
        "train = X[0:149] # 35 data as train data\n",
        "test = X[150:]  # 16 data as test data\n",
        "predictions = []\n",
        "print(train.size)\n",
        "print(test.size)"
      ]
    },
    {
      "cell_type": "markdown",
      "source": [
        "##Autoreggresive AR Model"
      ],
      "metadata": {
        "id": "Z9VoLIM8cB1R"
      }
    },
    {
      "cell_type": "code",
      "execution_count": null,
      "metadata": {
        "id": "ydGlhuB3HIZR"
      },
      "outputs": [],
      "source": [
        "from statsmodels.tsa.ar_model import AR\n",
        "from statsmodels.tsa.arima_model import ARIMA\n",
        "from sklearn.metrics import mean_squared_error\n",
        "model_ar = AR(train)\n",
        "model_ar_fit = model_ar.fit()\n",
        "predictions = model_ar_fit.predict(start=149,end=200)"
      ]
    },
    {
      "cell_type": "markdown",
      "source": [
        "##ARIMA model"
      ],
      "metadata": {
        "id": "ta4v5TNLcPdU"
      }
    },
    {
      "cell_type": "code",
      "execution_count": null,
      "metadata": {
        "id": "NzLT-7PkHkFH",
        "colab": {
          "base_uri": "https://localhost:8080/"
        },
        "outputId": "0369cd95-9485-489b-ea32-1d789dc03b05"
      },
      "outputs": [
        {
          "output_type": "stream",
          "name": "stdout",
          "text": [
            "-44.29181759250645\n"
          ]
        }
      ],
      "source": [
        "#p,d,q  p = periods taken for autoregressive model\n",
        "#d -> Integrated order, difference\n",
        "# q periods in moving average model\n",
        "model_arima = ARIMA(train,order=(3, 2, 2))\n",
        "model_arima_fit = model_arima.fit()\n",
        "print(model_arima_fit.aic) #lesser the aic values better is the model"
      ]
    },
    {
      "cell_type": "code",
      "execution_count": null,
      "metadata": {
        "id": "kypf5_mvHmMp",
        "colab": {
          "base_uri": "https://localhost:8080/"
        },
        "outputId": "c1837607-9de7-48c5-be6e-c7ac5d9be25a"
      },
      "outputs": [
        {
          "output_type": "execute_result",
          "data": {
            "text/plain": [
              "array([88.82305804, 88.90952114, 89.00153153, 89.06893087, 89.15119502,\n",
              "       89.23307352, 89.31380137, 89.39451603, 89.4738022 , 89.55133402,\n",
              "       89.6268633 , 89.70009674, 89.77085811, 89.83900891, 89.90443986,\n",
              "       89.9670708 , 90.02684048, 90.08370236, 90.13762133, 90.18857075,\n",
              "       90.23653044, 90.28148511, 90.32342318, 90.3623359 , 90.3982166 ,\n",
              "       90.43106026, 90.46086307, 90.48762214, 90.51133528, 90.53200083,\n",
              "       90.54961755, 90.56418447, 90.57570088, 90.58416623, 90.58958011,\n",
              "       90.59194221, 90.59125229, 90.58751016, 90.5807157 , 90.5708688 ,\n",
              "       90.55796939, 90.54201739, 90.52301277, 90.5009555 , 90.47584555,\n",
              "       90.44768289, 90.41646752, 90.38219942, 90.34487859, 90.30450501])"
            ]
          },
          "metadata": {},
          "execution_count": 27
        }
      ],
      "source": [
        "predictions= model_arima_fit.forecast(steps=50)[0]\n",
        "predictions"
      ]
    },
    {
      "cell_type": "code",
      "execution_count": null,
      "metadata": {
        "id": "WeOnoczIHrKK",
        "colab": {
          "base_uri": "https://localhost:8080/",
          "height": 283
        },
        "outputId": "9d43d666-4d38-418b-8e81-4843484e6782"
      },
      "outputs": [
        {
          "output_type": "execute_result",
          "data": {
            "text/plain": [
              "[<matplotlib.lines.Line2D at 0x7fbca416b350>]"
            ]
          },
          "metadata": {},
          "execution_count": 28
        },
        {
          "output_type": "display_data",
          "data": {
            "image/png": "[encoded data removed]",
            "text/plain": [
              "<Figure size 432x288 with 1 Axes>"
            ]
          },
          "metadata": {
            "needs_background": "light"
          }
        }
      ],
      "source": [
        "plt.plot(test)\n",
        "plt.plot(predictions,color='red')\n"
      ]
    },
    {
      "cell_type": "code",
      "execution_count": null,
      "metadata": {
        "id": "vs5Ac_yqHtqR",
        "colab": {
          "base_uri": "https://localhost:8080/"
        },
        "outputId": "4d13d662-e0d1-4a0c-ccca-15126a42f397"
      },
      "outputs": [
        {
          "output_type": "execute_result",
          "data": {
            "text/plain": [
              "1.1867003184708607"
            ]
          },
          "metadata": {},
          "execution_count": 16
        }
      ],
      "source": [
        "mean_squared_error(test,predictions)"
      ]
    },
    {
      "cell_type": "code",
      "execution_count": null,
      "metadata": {
        "id": "OnKREbDnIgUU",
        "colab": {
          "base_uri": "https://localhost:8080/"
        },
        "outputId": "7d696319-6273-4349-fac4-aa957220730e"
      },
      "outputs": [
        {
          "output_type": "execute_result",
          "data": {
            "text/plain": [
              "[(0, 0, 0),\n",
              " (0, 0, 1),\n",
              " (0, 0, 2),\n",
              " (0, 0, 3),\n",
              " (0, 0, 4),\n",
              " (0, 1, 0),\n",
              " (0, 1, 1),\n",
              " (0, 1, 2),\n",
              " (0, 1, 3),\n",
              " (0, 1, 4),\n",
              " (0, 2, 0),\n",
              " (0, 2, 1),\n",
              " (0, 2, 2),\n",
              " (0, 2, 3),\n",
              " (0, 2, 4),\n",
              " (0, 3, 0),\n",
              " (0, 3, 1),\n",
              " (0, 3, 2),\n",
              " (0, 3, 3),\n",
              " (0, 3, 4),\n",
              " (0, 4, 0),\n",
              " (0, 4, 1),\n",
              " (0, 4, 2),\n",
              " (0, 4, 3),\n",
              " (0, 4, 4),\n",
              " (1, 0, 0),\n",
              " (1, 0, 1),\n",
              " (1, 0, 2),\n",
              " (1, 0, 3),\n",
              " (1, 0, 4),\n",
              " (1, 1, 0),\n",
              " (1, 1, 1),\n",
              " (1, 1, 2),\n",
              " (1, 1, 3),\n",
              " (1, 1, 4),\n",
              " (1, 2, 0),\n",
              " (1, 2, 1),\n",
              " (1, 2, 2),\n",
              " (1, 2, 3),\n",
              " (1, 2, 4),\n",
              " (1, 3, 0),\n",
              " (1, 3, 1),\n",
              " (1, 3, 2),\n",
              " (1, 3, 3),\n",
              " (1, 3, 4),\n",
              " (1, 4, 0),\n",
              " (1, 4, 1),\n",
              " (1, 4, 2),\n",
              " (1, 4, 3),\n",
              " (1, 4, 4),\n",
              " (2, 0, 0),\n",
              " (2, 0, 1),\n",
              " (2, 0, 2),\n",
              " (2, 0, 3),\n",
              " (2, 0, 4),\n",
              " (2, 1, 0),\n",
              " (2, 1, 1),\n",
              " (2, 1, 2),\n",
              " (2, 1, 3),\n",
              " (2, 1, 4),\n",
              " (2, 2, 0),\n",
              " (2, 2, 1),\n",
              " (2, 2, 2),\n",
              " (2, 2, 3),\n",
              " (2, 2, 4),\n",
              " (2, 3, 0),\n",
              " (2, 3, 1),\n",
              " (2, 3, 2),\n",
              " (2, 3, 3),\n",
              " (2, 3, 4),\n",
              " (2, 4, 0),\n",
              " (2, 4, 1),\n",
              " (2, 4, 2),\n",
              " (2, 4, 3),\n",
              " (2, 4, 4),\n",
              " (3, 0, 0),\n",
              " (3, 0, 1),\n",
              " (3, 0, 2),\n",
              " (3, 0, 3),\n",
              " (3, 0, 4),\n",
              " (3, 1, 0),\n",
              " (3, 1, 1),\n",
              " (3, 1, 2),\n",
              " (3, 1, 3),\n",
              " (3, 1, 4),\n",
              " (3, 2, 0),\n",
              " (3, 2, 1),\n",
              " (3, 2, 2),\n",
              " (3, 2, 3),\n",
              " (3, 2, 4),\n",
              " (3, 3, 0),\n",
              " (3, 3, 1),\n",
              " (3, 3, 2),\n",
              " (3, 3, 3),\n",
              " (3, 3, 4),\n",
              " (3, 4, 0),\n",
              " (3, 4, 1),\n",
              " (3, 4, 2),\n",
              " (3, 4, 3),\n",
              " (3, 4, 4),\n",
              " (4, 0, 0),\n",
              " (4, 0, 1),\n",
              " (4, 0, 2),\n",
              " (4, 0, 3),\n",
              " (4, 0, 4),\n",
              " (4, 1, 0),\n",
              " (4, 1, 1),\n",
              " (4, 1, 2),\n",
              " (4, 1, 3),\n",
              " (4, 1, 4),\n",
              " (4, 2, 0),\n",
              " (4, 2, 1),\n",
              " (4, 2, 2),\n",
              " (4, 2, 3),\n",
              " (4, 2, 4),\n",
              " (4, 3, 0),\n",
              " (4, 3, 1),\n",
              " (4, 3, 2),\n",
              " (4, 3, 3),\n",
              " (4, 3, 4),\n",
              " (4, 4, 0),\n",
              " (4, 4, 1),\n",
              " (4, 4, 2),\n",
              " (4, 4, 3),\n",
              " (4, 4, 4)]"
            ]
          },
          "metadata": {},
          "execution_count": 17
        }
      ],
      "source": [
        "import itertools\n",
        "p=d=q=range(0,5)\n",
        "pdq = list(itertools.product(p,d,q))\n",
        "pdq"
      ]
    },
    {
      "cell_type": "code",
      "execution_count": null,
      "metadata": {
        "id": "lhGr2F5KInAO",
        "colab": {
          "base_uri": "https://localhost:8080/"
        },
        "outputId": "c5729263-c845-48ec-a33a-30e4684aaf2d"
      },
      "outputs": [
        {
          "output_type": "stream",
          "name": "stdout",
          "text": [
            "(0, 0, 0) 1104.0987035459032\n",
            "(0, 0, 1) 909.234602981076\n",
            "(0, 0, 2) 751.0868742718341\n",
            "(0, 0, 3) 619.113648069902\n",
            "(0, 0, 4) 531.5025324035336\n",
            "(0, 1, 0) 29.192461928505935\n",
            "(0, 1, 1) 30.200082270088842\n",
            "(0, 1, 2) 21.848764849758822\n",
            "(0, 1, 3) 19.068991801618893\n",
            "(0, 1, 4) 18.067572553161654\n",
            "(0, 2, 0) 145.08523270193237\n",
            "(0, 2, 1) 1.3908863171592998\n",
            "(1, 0, 0) 127.91684475062118\n",
            "(1, 0, 1) 117.36715401953927\n",
            "(1, 0, 2) 93.09726278977416\n",
            "(1, 0, 3) 84.57745724707485\n",
            "(1, 0, 4) 79.20370053316412\n",
            "(1, 1, 0) 29.705756964929776\n",
            "(1, 1, 1) 33.17233903406918\n",
            "(1, 1, 2) -32.59843892119102\n",
            "(1, 1, 3) -30.93416198957277\n",
            "(1, 1, 4) -29.38518673638231\n",
            "(1, 2, 0) 66.09647469003613\n",
            "(1, 2, 3) -40.75238107865931\n",
            "(2, 0, 0) 105.73482600405009\n",
            "(2, 0, 2) -16.153747902716646\n",
            "(2, 1, 0) 23.999136778902823\n",
            "(2, 1, 1) 33.68947220111272\n",
            "(2, 1, 2) -30.997955458391743\n",
            "(2, 1, 3) -31.965140123252354\n",
            "(2, 1, 4) -29.99481159494735\n",
            "(2, 2, 0) 25.47916232226612\n",
            "(2, 2, 1) -32.443241739470466\n",
            "(3, 0, 0) 167.6437959897857\n",
            "(3, 1, 0) 9.284947120697552\n",
            "(3, 1, 1) 27.97265300180601\n",
            "(3, 1, 2) -10.301267500416373\n",
            "(3, 1, 4) 29.751308254484286\n",
            "(3, 2, 0) 15.522044312209346\n",
            "(3, 2, 1) -31.612092180164836\n",
            "(3, 2, 2) -44.29181759250645\n",
            "(4, 0, 0) 34.18687581277214\n",
            "(4, 1, 0) 6.12786669996575\n",
            "(4, 1, 1) 13.229707596128549\n",
            "(4, 1, 2) 26.756938731905905\n",
            "(4, 2, 0) -0.27716163874538324\n",
            "(4, 2, 1) -36.31813240707322\n",
            "(4, 2, 2) -35.409519227867406\n",
            "(4, 2, 3) -35.26544659256763\n"
          ]
        }
      ],
      "source": [
        "import warnings\n",
        "warnings.filterwarnings('ignore')\n",
        "for param in pdq:\n",
        "    try:\n",
        "        model_arima = ARIMA(train,order=param)\n",
        "        model_arima_fit = model_arima.fit()\n",
        "        print(param,model_arima_fit.aic)\n",
        "    except:\n",
        "        continue"
      ]
    },
    {
      "cell_type": "code",
      "source": [
        "predictions= model_arima_fit.forecast(steps=50)[0]\n",
        "predictions"
      ],
      "metadata": {
        "colab": {
          "base_uri": "https://localhost:8080/"
        },
        "id": "e85WhpKsGoQo",
        "outputId": "3fc16ac2-a452-430a-e0d9-90fc65eba2cb"
      },
      "execution_count": null,
      "outputs": [
        {
          "output_type": "execute_result",
          "data": {
            "text/plain": [
              "array([88.67243109, 88.90016598, 89.08265013, 88.96282069, 89.05365561,\n",
              "       89.20883587, 89.25011415, 89.25675079, 89.30377072, 89.40170054,\n",
              "       89.4638917 , 89.46447628, 89.49587918, 89.57461315, 89.6212736 ,\n",
              "       89.62348934, 89.64544007, 89.70036245, 89.73513727, 89.73561029,\n",
              "       89.74669121, 89.78232617, 89.80458049, 89.80023317, 89.80110062,\n",
              "       89.81959221, 89.829126  , 89.81812487, 89.80876596, 89.81175921,\n",
              "       89.80862968, 89.78955389, 89.76988934, 89.75858265, 89.74289935,\n",
              "       89.71473882, 89.68463391, 89.65988185, 89.63179341, 89.59382531,\n",
              "       89.55312612, 89.51553852, 89.47519891, 89.42690999, 89.37546598,\n",
              "       89.32547398, 89.2730278 , 89.21405654, 89.1517308 , 89.08963699])"
            ]
          },
          "metadata": {},
          "execution_count": 19
        }
      ]
    },
    {
      "cell_type": "code",
      "source": [
        " df = pd.DataFrame(predictions)  #to arrange data like excel sheet\n",
        " df.columns = [\"TEMP\"]\n",
        " df"
      ],
      "metadata": {
        "id": "PotOVAYTIhGn",
        "colab": {
          "base_uri": "https://localhost:8080/",
          "height": 1000
        },
        "outputId": "e49d5a4e-2e71-493c-94bd-ce95ca78bbbe"
      },
      "execution_count": null,
      "outputs": [
        {
          "output_type": "execute_result",
          "data": {
            "text/html": [
              "\n",
              "  <div id=\"df-677c2436-ebe3-4b5a-9798-b7c9f6ee153e\">\n",
              "    <div class=\"colab-df-container\">\n",
              "      <div>\n",
              "<style scoped>\n",
              "    .dataframe tbody tr th:only-of-type {\n",
              "        vertical-align: middle;\n",
              "    }\n",
              "\n",
              "    .dataframe tbody tr th {\n",
              "        vertical-align: top;\n",
              "    }\n",
              "\n",
              "    .dataframe thead th {\n",
              "        text-align: right;\n",
              "    }\n",
              "</style>\n",
              "<table border=\"1\" class=\"dataframe\">\n",
              "  <thead>\n",
              "    <tr style=\"text-align: right;\">\n",
              "      <th></th>\n",
              "      <th>TEMP</th>\n",
              "    </tr>\n",
              "  </thead>\n",
              "  <tbody>\n",
              "    <tr>\n",
              "      <th>0</th>\n",
              "      <td>88.672431</td>\n",
              "    </tr>\n",
              "    <tr>\n",
              "      <th>1</th>\n",
              "      <td>88.900166</td>\n",
              "    </tr>\n",
              "    <tr>\n",
              "      <th>2</th>\n",
              "      <td>89.082650</td>\n",
              "    </tr>\n",
              "    <tr>\n",
              "      <th>3</th>\n",
              "      <td>88.962821</td>\n",
              "    </tr>\n",
              "    <tr>\n",
              "      <th>4</th>\n",
              "      <td>89.053656</td>\n",
              "    </tr>\n",
              "    <tr>\n",
              "      <th>5</th>\n",
              "      <td>89.208836</td>\n",
              "    </tr>\n",
              "    <tr>\n",
              "      <th>6</th>\n",
              "      <td>89.250114</td>\n",
              "    </tr>\n",
              "    <tr>\n",
              "      <th>7</th>\n",
              "      <td>89.256751</td>\n",
              "    </tr>\n",
              "    <tr>\n",
              "      <th>8</th>\n",
              "      <td>89.303771</td>\n",
              "    </tr>\n",
              "    <tr>\n",
              "      <th>9</th>\n",
              "      <td>89.401701</td>\n",
              "    </tr>\n",
              "    <tr>\n",
              "      <th>10</th>\n",
              "      <td>89.463892</td>\n",
              "    </tr>\n",
              "    <tr>\n",
              "      <th>11</th>\n",
              "      <td>89.464476</td>\n",
              "    </tr>\n",
              "    <tr>\n",
              "      <th>12</th>\n",
              "      <td>89.495879</td>\n",
              "    </tr>\n",
              "    <tr>\n",
              "      <th>13</th>\n",
              "      <td>89.574613</td>\n",
              "    </tr>\n",
              "    <tr>\n",
              "      <th>14</th>\n",
              "      <td>89.621274</td>\n",
              "    </tr>\n",
              "    <tr>\n",
              "      <th>15</th>\n",
              "      <td>89.623489</td>\n",
              "    </tr>\n",
              "    <tr>\n",
              "      <th>16</th>\n",
              "      <td>89.645440</td>\n",
              "    </tr>\n",
              "    <tr>\n",
              "      <th>17</th>\n",
              "      <td>89.700362</td>\n",
              "    </tr>\n",
              "    <tr>\n",
              "      <th>18</th>\n",
              "      <td>89.735137</td>\n",
              "    </tr>\n",
              "    <tr>\n",
              "      <th>19</th>\n",
              "      <td>89.735610</td>\n",
              "    </tr>\n",
              "    <tr>\n",
              "      <th>20</th>\n",
              "      <td>89.746691</td>\n",
              "    </tr>\n",
              "    <tr>\n",
              "      <th>21</th>\n",
              "      <td>89.782326</td>\n",
              "    </tr>\n",
              "    <tr>\n",
              "      <th>22</th>\n",
              "      <td>89.804580</td>\n",
              "    </tr>\n",
              "    <tr>\n",
              "      <th>23</th>\n",
              "      <td>89.800233</td>\n",
              "    </tr>\n",
              "    <tr>\n",
              "      <th>24</th>\n",
              "      <td>89.801101</td>\n",
              "    </tr>\n",
              "    <tr>\n",
              "      <th>25</th>\n",
              "      <td>89.819592</td>\n",
              "    </tr>\n",
              "    <tr>\n",
              "      <th>26</th>\n",
              "      <td>89.829126</td>\n",
              "    </tr>\n",
              "    <tr>\n",
              "      <th>27</th>\n",
              "      <td>89.818125</td>\n",
              "    </tr>\n",
              "    <tr>\n",
              "      <th>28</th>\n",
              "      <td>89.808766</td>\n",
              "    </tr>\n",
              "    <tr>\n",
              "      <th>29</th>\n",
              "      <td>89.811759</td>\n",
              "    </tr>\n",
              "    <tr>\n",
              "      <th>30</th>\n",
              "      <td>89.808630</td>\n",
              "    </tr>\n",
              "    <tr>\n",
              "      <th>31</th>\n",
              "      <td>89.789554</td>\n",
              "    </tr>\n",
              "    <tr>\n",
              "      <th>32</th>\n",
              "      <td>89.769889</td>\n",
              "    </tr>\n",
              "    <tr>\n",
              "      <th>33</th>\n",
              "      <td>89.758583</td>\n",
              "    </tr>\n",
              "    <tr>\n",
              "      <th>34</th>\n",
              "      <td>89.742899</td>\n",
              "    </tr>\n",
              "    <tr>\n",
              "      <th>35</th>\n",
              "      <td>89.714739</td>\n",
              "    </tr>\n",
              "    <tr>\n",
              "      <th>36</th>\n",
              "      <td>89.684634</td>\n",
              "    </tr>\n",
              "    <tr>\n",
              "      <th>37</th>\n",
              "      <td>89.659882</td>\n",
              "    </tr>\n",
              "    <tr>\n",
              "      <th>38</th>\n",
              "      <td>89.631793</td>\n",
              "    </tr>\n",
              "    <tr>\n",
              "      <th>39</th>\n",
              "      <td>89.593825</td>\n",
              "    </tr>\n",
              "    <tr>\n",
              "      <th>40</th>\n",
              "      <td>89.553126</td>\n",
              "    </tr>\n",
              "    <tr>\n",
              "      <th>41</th>\n",
              "      <td>89.515539</td>\n",
              "    </tr>\n",
              "    <tr>\n",
              "      <th>42</th>\n",
              "      <td>89.475199</td>\n",
              "    </tr>\n",
              "    <tr>\n",
              "      <th>43</th>\n",
              "      <td>89.426910</td>\n",
              "    </tr>\n",
              "    <tr>\n",
              "      <th>44</th>\n",
              "      <td>89.375466</td>\n",
              "    </tr>\n",
              "    <tr>\n",
              "      <th>45</th>\n",
              "      <td>89.325474</td>\n",
              "    </tr>\n",
              "    <tr>\n",
              "      <th>46</th>\n",
              "      <td>89.273028</td>\n",
              "    </tr>\n",
              "    <tr>\n",
              "      <th>47</th>\n",
              "      <td>89.214057</td>\n",
              "    </tr>\n",
              "    <tr>\n",
              "      <th>48</th>\n",
              "      <td>89.151731</td>\n",
              "    </tr>\n",
              "    <tr>\n",
              "      <th>49</th>\n",
              "      <td>89.089637</td>\n",
              "    </tr>\n",
              "  </tbody>\n",
              "</table>\n",
              "</div>\n",
              "      <button class=\"colab-df-convert\" onclick=\"convertToInteractive('df-677c2436-ebe3-4b5a-9798-b7c9f6ee153e')\"\n",
              "              title=\"Convert this dataframe to an interactive table.\"\n",
              "              style=\"display:none;\">\n",
              "        \n",
              "  <svg xmlns=\"http://www.w3.org/2000/svg\" height=\"24px\"viewBox=\"0 0 24 24\"\n",
              "       width=\"24px\">\n",
              "    <path d=\"M0 0h24v24H0V0z\" fill=\"none\"/>\n",
              "    <path d=\"M18.56 5.44l.94 2.06.94-2.06 2.06-.94-2.06-.94-.94-2.06-.94 2.06-2.06.94zm-11 1L8.5 8.5l.94-2.06 2.06-.94-2.06-.94L8.5 2.5l-.94 2.06-2.06.94zm10 10l.94 2.06.94-2.06 2.06-.94-2.06-.94-.94-2.06-.94 2.06-2.06.94z\"/><path d=\"M17.41 7.96l-1.37-1.37c-.4-.4-.92-.59-1.43-.59-.52 0-1.04.2-1.43.59L10.3 9.45l-7.72 7.72c-.78.78-.78 2.05 0 2.83L4 21.41c.39.39.9.59 1.41.59.51 0 1.02-.2 1.41-.59l7.78-7.78 2.81-2.81c.8-.78.8-2.07 0-2.86zM5.41 20L4 18.59l7.72-7.72 1.47 1.35L5.41 20z\"/>\n",
              "  </svg>\n",
              "      </button>\n",
              "      \n",
              "  <style>\n",
              "    .colab-df-container {\n",
              "      display:flex;\n",
              "      flex-wrap:wrap;\n",
              "      gap: 12px;\n",
              "    }\n",
              "\n",
              "    .colab-df-convert {\n",
              "      background-color: #E8F0FE;\n",
              "      border: none;\n",
              "      border-radius: 50%;\n",
              "      cursor: pointer;\n",
              "      display: none;\n",
              "      fill: #1967D2;\n",
              "      height: 32px;\n",
              "      padding: 0 0 0 0;\n",
              "      width: 32px;\n",
              "    }\n",
              "\n",
              "    .colab-df-convert:hover {\n",
              "      background-color: #E2EBFA;\n",
              "      box-shadow: 0px 1px 2px rgba(60, 64, 67, 0.3), 0px 1px 3px 1px rgba(60, 64, 67, 0.15);\n",
              "      fill: #174EA6;\n",
              "    }\n",
              "\n",
              "    [theme=dark] .colab-df-convert {\n",
              "      background-color: #3B4455;\n",
              "      fill: #D2E3FC;\n",
              "    }\n",
              "\n",
              "    [theme=dark] .colab-df-convert:hover {\n",
              "      background-color: #434B5C;\n",
              "      box-shadow: 0px 1px 3px 1px rgba(0, 0, 0, 0.15);\n",
              "      filter: drop-shadow(0px 1px 2px rgba(0, 0, 0, 0.3));\n",
              "      fill: #FFFFFF;\n",
              "    }\n",
              "  </style>\n",
              "\n",
              "      <script>\n",
              "        const buttonEl =\n",
              "          document.querySelector('#df-677c2436-ebe3-4b5a-9798-b7c9f6ee153e button.colab-df-convert');\n",
              "        buttonEl.style.display =\n",
              "          google.colab.kernel.accessAllowed ? 'block' : 'none';\n",
              "\n",
              "        async function convertToInteractive(key) {\n",
              "          const element = document.querySelector('#df-677c2436-ebe3-4b5a-9798-b7c9f6ee153e');\n",
              "          const dataTable =\n",
              "            await google.colab.kernel.invokeFunction('convertToInteractive',\n",
              "                                                     [key], {});\n",
              "          if (!dataTable) return;\n",
              "\n",
              "          const docLinkHtml = 'Like what you see? Visit the ' +\n",
              "            '<a target=\"_blank\" href=https://colab.research.google.com/notebooks/data_table.ipynb>data table notebook</a>'\n",
              "            + ' to learn more about interactive tables.';\n",
              "          element.innerHTML = '';\n",
              "          dataTable['output_type'] = 'display_data';\n",
              "          await google.colab.output.renderOutput(dataTable, element);\n",
              "          const docLink = document.createElement('div');\n",
              "          docLink.innerHTML = docLinkHtml;\n",
              "          element.appendChild(docLink);\n",
              "        }\n",
              "      </script>\n",
              "    </div>\n",
              "  </div>\n",
              "  "
            ],
            "text/plain": [
              "         TEMP\n",
              "0   88.672431\n",
              "1   88.900166\n",
              "2   89.082650\n",
              "3   88.962821\n",
              "4   89.053656\n",
              "5   89.208836\n",
              "6   89.250114\n",
              "7   89.256751\n",
              "8   89.303771\n",
              "9   89.401701\n",
              "10  89.463892\n",
              "11  89.464476\n",
              "12  89.495879\n",
              "13  89.574613\n",
              "14  89.621274\n",
              "15  89.623489\n",
              "16  89.645440\n",
              "17  89.700362\n",
              "18  89.735137\n",
              "19  89.735610\n",
              "20  89.746691\n",
              "21  89.782326\n",
              "22  89.804580\n",
              "23  89.800233\n",
              "24  89.801101\n",
              "25  89.819592\n",
              "26  89.829126\n",
              "27  89.818125\n",
              "28  89.808766\n",
              "29  89.811759\n",
              "30  89.808630\n",
              "31  89.789554\n",
              "32  89.769889\n",
              "33  89.758583\n",
              "34  89.742899\n",
              "35  89.714739\n",
              "36  89.684634\n",
              "37  89.659882\n",
              "38  89.631793\n",
              "39  89.593825\n",
              "40  89.553126\n",
              "41  89.515539\n",
              "42  89.475199\n",
              "43  89.426910\n",
              "44  89.375466\n",
              "45  89.325474\n",
              "46  89.273028\n",
              "47  89.214057\n",
              "48  89.151731\n",
              "49  89.089637"
            ]
          },
          "metadata": {},
          "execution_count": 20
        }
      ]
    },
    {
      "cell_type": "code",
      "source": [
        "df.to_csv('prediction.csv') "
      ],
      "metadata": {
        "id": "4N4su4SmIqxZ"
      },
      "execution_count": null,
      "outputs": []
    },
    {
      "cell_type": "code",
      "execution_count": null,
      "metadata": {
        "id": "yrPr1xwkIsAY",
        "colab": {
          "base_uri": "https://localhost:8080/"
        },
        "outputId": "4b9d5eeb-3c34-4bd8-bc25-04452129eb72"
      },
      "outputs": [
        {
          "output_type": "stream",
          "name": "stdout",
          "text": [
            "    Unnamed: 0       TEMP\n",
            "0            0  88.672431\n",
            "1            1  88.900166\n",
            "2            2  89.082650\n",
            "3            3  88.962821\n",
            "4            4  89.053656\n",
            "5            5  89.208836\n",
            "6            6  89.250114\n",
            "7            7  89.256751\n",
            "8            8  89.303771\n",
            "9            9  89.401701\n",
            "10          10  89.463892\n",
            "11          11  89.464476\n",
            "12          12  89.495879\n",
            "13          13  89.574613\n",
            "14          14  89.621274\n",
            "15          15  89.623489\n",
            "16          16  89.645440\n",
            "17          17  89.700362\n",
            "18          18  89.735137\n",
            "19          19  89.735610\n",
            "20          20  89.746691\n",
            "21          21  89.782326\n",
            "22          22  89.804580\n",
            "23          23  89.800233\n",
            "24          24  89.801101\n",
            "25          25  89.819592\n",
            "26          26  89.829126\n",
            "27          27  89.818125\n",
            "28          28  89.808766\n",
            "29          29  89.811759\n",
            "30          30  89.808630\n",
            "31          31  89.789554\n",
            "32          32  89.769889\n",
            "33          33  89.758583\n",
            "34          34  89.742899\n",
            "35          35  89.714739\n",
            "36          36  89.684634\n",
            "37          37  89.659882\n",
            "38          38  89.631793\n",
            "39          39  89.593825\n",
            "40          40  89.553126\n",
            "41          41  89.515539\n",
            "42          42  89.475199\n",
            "43          43  89.426910\n",
            "44          44  89.375466\n",
            "45          45  89.325474\n",
            "46          46  89.273028\n",
            "47          47  89.214057\n",
            "48          48  89.151731\n",
            "49          49  89.089637\n",
            "    INDEX      TIME   TEMP\n",
            "0       1  00:04:19  73.31\n",
            "1       2  00:04:22  73.31\n",
            "2       3  00:04:25  73.31\n",
            "3       4  00:04:27  73.80\n",
            "4       5  00:04:30  73.80\n",
            "5       6  00:04:33  73.80\n",
            "6       7  00:04:36  73.80\n",
            "7       8  00:04:39  73.80\n",
            "8       9  00:04:42  73.80\n",
            "9      10  00:04:45  73.80\n",
            "10     11  00:04:48  73.80\n",
            "11     12  00:04:51  74.29\n",
            "12     13  00:04:54  74.29\n",
            "13     14  00:04:57  74.29\n",
            "14     15  00:05:00  74.29\n",
            "15     16  00:05:02  74.29\n",
            "16     17  00:05:05  74.78\n",
            "17     18  00:05:08  74.78\n",
            "18     19  00:05:10  74.78\n",
            "19     20  00:05:13  75.27\n",
            "20     21  00:05:15  75.27\n",
            "21     22  00:05:18  75.27\n",
            "22     23  00:05:21  75.27\n",
            "23     24  00:05:24  75.76\n",
            "24     25  00:05:27  75.27\n",
            "25     26  00:05:30  75.27\n",
            "26     27  00:05:33  75.27\n",
            "27     28  00:05:34  75.76\n",
            "28     29  00:05:37  75.76\n",
            "29     30  00:05:40  75.76\n",
            "30     31  00:05:43  75.76\n",
            "31     32  00:05:46  75.76\n",
            "32     33  00:05:49  75.76\n",
            "33     34  00:05:52  75.76\n",
            "34     35  00:05:55  75.76\n",
            "35     36  00:05:58  75.76\n",
            "36     37  00:06:01  75.76\n",
            "37     38  00:06:04  75.76\n",
            "38     39  00:06:07  75.76\n",
            "39     40  00:06:09  75.76\n",
            "40     41  00:06:12  75.76\n",
            "41     42  00:06:15  75.76\n",
            "42     43  00:06:18  75.76\n",
            "43     44  00:06:21  76.25\n",
            "44     45  00:06:24  75.76\n",
            "45     46  00:06:26  76.25\n",
            "46     47  00:06:29  76.25\n",
            "47     48  00:06:32  76.25\n",
            "48     49  00:06:35  76.25\n",
            "49     50  00:06:41  75.27\n"
          ]
        }
      ],
      "source": [
        "edi = pd.read_csv('/content/prediction.csv')\n",
        "edi2=pd.read_csv('/content/LM35_Faulty.csv')\n",
        "print(edi)\n",
        "print(edi2)"
      ]
    },
    {
      "cell_type": "code",
      "execution_count": null,
      "metadata": {
        "id": "FJw0fC5QKw2J",
        "colab": {
          "base_uri": "https://localhost:8080/"
        },
        "outputId": "2b09d773-0782-4777-97f3-839cead58db1"
      },
      "outputs": [
        {
          "output_type": "stream",
          "name": "stdout",
          "text": [
            "wire is loose ,error occured 2 times\n",
            "wire has been removed  2 times\n",
            "wire is loose ,error occured 3 times\n",
            "wire has been removed  3 times\n",
            "wire is loose ,error occured 4 times\n",
            "wire has been removed  4 times\n",
            "wire is loose ,error occured 5 times\n",
            "wire has been removed  5 times\n",
            "wire is loose ,error occured 6 times\n",
            "wire has been removed  6 times\n",
            "wire is loose ,error occured 7 times\n",
            "wire has been removed  7 times\n",
            "wire is loose ,error occured 8 times\n",
            "wire has been removed  8 times\n",
            "wire is loose ,error occured 9 times\n",
            "wire has been removed  9 times\n",
            "wire is loose ,error occured 10 times\n",
            "wire has been removed  10 times\n",
            "wire is loose ,error occured 11 times\n",
            "wire has been removed  11 times\n",
            "wire is loose ,error occured 12 times\n",
            "wire has been removed  12 times\n",
            "wire is loose ,error occured 13 times\n",
            "wire has been removed  13 times\n",
            "wire is loose ,error occured 14 times\n",
            "wire has been removed  14 times\n",
            "wire is loose ,error occured 15 times\n",
            "wire has been removed  15 times\n",
            "wire is loose ,error occured 16 times\n",
            "wire has been removed  16 times\n",
            "wire is loose ,error occured 17 times\n",
            "wire has been removed  17 times\n",
            "wire is loose ,error occured 18 times\n",
            "wire has been removed  18 times\n",
            "wire is loose ,error occured 19 times\n",
            "wire has been removed  19 times\n",
            "wire is loose ,error occured 20 times\n",
            "wire has been removed  20 times\n",
            "wire is loose ,error occured 21 times\n",
            "wire has been removed  21 times\n",
            "wire is loose ,error occured 22 times\n",
            "wire has been removed  22 times\n",
            "wire is loose ,error occured 23 times\n",
            "wire has been removed  23 times\n",
            "wire is loose ,error occured 24 times\n",
            "wire has been removed  24 times\n",
            "wire is loose ,error occured 25 times\n",
            "wire has been removed  25 times\n",
            "wire is loose ,error occured 26 times\n",
            "wire has been removed  26 times\n",
            "wire is loose ,error occured 27 times\n",
            "wire has been removed  27 times\n",
            "wire is loose ,error occured 28 times\n",
            "wire has been removed  28 times\n",
            "wire is loose ,error occured 29 times\n",
            "wire has been removed  29 times\n",
            "wire is loose ,error occured 30 times\n",
            "wire has been removed  30 times\n",
            "wire is loose ,error occured 31 times\n",
            "wire has been removed  31 times\n",
            "wire is loose ,error occured 32 times\n",
            "wire has been removed  32 times\n",
            "wire is loose ,error occured 33 times\n",
            "wire has been removed  33 times\n",
            "wire is loose ,error occured 34 times\n",
            "wire has been removed  34 times\n",
            "wire is loose ,error occured 35 times\n",
            "wire has been removed  35 times\n",
            "wire is loose ,error occured 36 times\n",
            "wire has been removed  36 times\n",
            "wire is loose ,error occured 37 times\n",
            "wire has been removed  37 times\n",
            "wire is loose ,error occured 38 times\n",
            "wire has been removed  38 times\n",
            "wire is loose ,error occured 39 times\n",
            "wire has been removed  39 times\n",
            "wire is loose ,error occured 40 times\n",
            "wire has been removed  40 times\n",
            "wire is loose ,error occured 41 times\n",
            "wire has been removed  41 times\n",
            "wire is loose ,error occured 42 times\n",
            "wire has been removed  42 times\n",
            "wire is loose ,error occured 43 times\n",
            "wire has been removed  43 times\n",
            "wire is loose ,error occured 44 times\n",
            "wire has been removed  44 times\n",
            "wire is loose ,error occured 45 times\n",
            "wire has been removed  45 times\n",
            "wire is loose ,error occured 46 times\n",
            "wire has been removed  46 times\n",
            "wire is loose ,error occured 47 times\n",
            "wire has been removed  47 times\n",
            "wire is loose ,error occured 48 times\n",
            "wire has been removed  48 times\n",
            "wire is loose ,error occured 49 times\n",
            "wire has been removed  49 times\n"
          ]
        }
      ],
      "source": [
        "i=1\n",
        "j=0\n",
        "k=0\n",
        "z=edi2['INDEX'][edi2.index[-1]]\n",
        "\n",
        "while (i <z):\n",
        "    a= ((edi['TEMP'][i]-edi2['TEMP'][i]))\n",
        "    if (a>0):\n",
        "        j=j+1\n",
        "        if(j>=2):\n",
        "            print(\"wire is loose ,error occured\",end=\" \")\n",
        "            print(j,end=\" \")\n",
        "            print(\"times\")\n",
        "    if (0.8<a<2):\n",
        "        k=k+1\n",
        "        if (k>=2):\n",
        "            print(\"some insulation is done on sensor \",end=\" \")\n",
        "            print(k,end=\" \")\n",
        "            print(\"times\")\n",
        "    if (a>1.5):\n",
        "        k=k+1\n",
        "        if (k>=2):\n",
        "            print(\"wire has been removed \",end=\" \")\n",
        "            print(k,end=\" \")\n",
        "            print(\"times\")        \n",
        "    i=i+1\n",
        "    "
      ]
    },
    {
      "cell_type": "code",
      "source": [
        "plt.plot(edi2[\"TEMP\"])\n",
        "plt.plot(predictions,color='red')"
      ],
      "metadata": {
        "colab": {
          "base_uri": "https://localhost:8080/",
          "height": 282
        },
        "id": "XT1f9SCOLBiK",
        "outputId": "53cade19-6adf-41ca-cd62-14c2fe72adeb"
      },
      "execution_count": null,
      "outputs": [
        {
          "output_type": "execute_result",
          "data": {
            "text/plain": [
              "[<matplotlib.lines.Line2D at 0x7fbca4223c90>]"
            ]
          },
          "metadata": {},
          "execution_count": 25
        },
        {
          "output_type": "display_data",
          "data": {
            "image/png": "[encoded data removed]",
            "text/plain": [
              "<Figure size 432x288 with 1 Axes>"
            ]
          },
          "metadata": {
            "needs_background": "light"
          }
        }
      ]
    }
  ],
  "metadata": {
    "colab": {
      "provenance": [],
      "include_colab_link": true
    },
    "kernelspec": {
      "display_name": "Python 3",
      "name": "python3"
    },
    "language_info": {
      "name": "python"
    }
  },
  "nbformat": 4,
  "nbformat_minor": 0
}